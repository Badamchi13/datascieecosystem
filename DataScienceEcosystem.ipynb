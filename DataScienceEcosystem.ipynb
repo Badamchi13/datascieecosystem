{
 "cells": [
  {
   "cell_type": "markdown",
   "id": "ef223826",
   "metadata": {},
   "source": [
    "# Data Science Tools and Ecosystem"
   ]
  },
  {
   "cell_type": "markdown",
   "id": "bf9398f5",
   "metadata": {},
   "source": [
    "In this notebook, Data Science Tools and Ecosystem are summurized."
   ]
  },
  {
   "cell_type": "markdown",
   "id": "f838d241",
   "metadata": {},
   "source": [
    "**Objectives:**\n",
    "    \n",
    "     -  List popular languages for Data Science\n",
    "     -  List Commonly used libraries in Data Science\n",
    "     -  List Some of main Tools and Development Environments for Data Scince\n",
    "     -  Exemplify a few arithmetic expressions"
   ]
  },
  {
   "cell_type": "markdown",
   "id": "dd73a7d6",
   "metadata": {},
   "source": [
    "Some of the popular Languages that Data Scientists use are:\n",
    "1) Python\n",
    "2) R\n",
    "3) Java\n",
    "4) C++"
   ]
  },
  {
   "cell_type": "markdown",
   "id": "11a07a90",
   "metadata": {},
   "source": [
    "Some of the commonly used libraries used by Data Scientists include:\n",
    "1) ggplot2\n",
    "2) Lattice\n",
    "3) Pandas\n",
    "4) TensorFlow"
   ]
  },
  {
   "cell_type": "markdown",
   "id": "9976558c",
   "metadata": {},
   "source": [
    "|Data Science Tools|\n",
    "-----------------------------\n",
    "|RStudio|\n",
    "|Kernel|\n",
    "|Watson Studio|\n",
    "|Jupyter notebook|"
   ]
  },
  {
   "cell_type": "markdown",
   "id": "64ae7fb1",
   "metadata": {},
   "source": [
    "### below are a few examples of evaluating arithmetic expressions in Python."
   ]
  },
  {
   "cell_type": "code",
   "execution_count": 3,
   "id": "541d3139",
   "metadata": {},
   "outputs": [
    {
     "name": "stdout",
     "output_type": "stream",
     "text": [
      "17\n"
     ]
    }
   ],
   "source": [
    "#This is a simple arithmetic expression to multiply then add integers.\n",
    "\n",
    "print (3*4 + 5)"
   ]
  },
  {
   "cell_type": "code",
   "execution_count": 4,
   "id": "3d556807",
   "metadata": {},
   "outputs": [
    {
     "data": {
      "text/plain": [
       "3.3333333333333335"
      ]
     },
     "execution_count": 4,
     "metadata": {},
     "output_type": "execute_result"
    }
   ],
   "source": [
    "#This will convert 200 minutes to hours by dividing by 60.\n",
    "200/60"
   ]
  },
  {
   "cell_type": "markdown",
   "id": "a598982e",
   "metadata": {},
   "source": [
    "## Author:\n",
    "    Mohammad Hoseein Badamchi"
   ]
  },
  {
   "cell_type": "code",
   "execution_count": null,
   "id": "e5bdabd7",
   "metadata": {},
   "outputs": [],
   "source": []
  }
 ],
 "metadata": {
  "kernelspec": {
   "display_name": "Python 3 (ipykernel)",
   "language": "python",
   "name": "python3"
  },
  "language_info": {
   "codemirror_mode": {
    "name": "ipython",
    "version": 3
   },
   "file_extension": ".py",
   "mimetype": "text/x-python",
   "name": "python",
   "nbconvert_exporter": "python",
   "pygments_lexer": "ipython3",
   "version": "3.10.12"
  }
 },
 "nbformat": 4,
 "nbformat_minor": 5
}
